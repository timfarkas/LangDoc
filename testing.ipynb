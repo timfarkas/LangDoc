{
 "cells": [
  {
   "cell_type": "markdown",
   "metadata": {},
   "source": [
    "# Testing\n",
    "## Imports"
   ]
  },
  {
   "cell_type": "code",
   "execution_count": 1,
   "metadata": {},
   "outputs": [
    {
     "name": "stderr",
     "output_type": "stream",
     "text": [
      "WARNING:discord.client:PyNaCl is not installed, voice will NOT be supported\n"
     ]
    }
   ],
   "source": [
    "import asyncio\n",
    "import multiprocessing\n",
    "import discordBack, discordFront, langDocBack\n",
    "from Conversation import Conversation, BotMessage, UserMessage, SystemMessage\n",
    "from collections import defaultdict\n",
    "from multiprocessing import Pool, current_process\n",
    "from langchain.prompts.chat import (\n",
    "    ChatPromptTemplate,\n",
    "    SystemMessagePromptTemplate,\n",
    "    AIMessagePromptTemplate,\n",
    "    HumanMessagePromptTemplate,\n",
    ")\n",
    "from langchain.chat_models import ChatOpenAI\n",
    "from langchain.schema import (\n",
    "    AIMessage,\n",
    "    HumanMessage\n",
    ")\n",
    "import asyncio, logging\n",
    "from multiprocessing import Process, freeze_support, log_to_stderr\n",
    "\n",
    "chat = ChatOpenAI(temperature=0)\n",
    "\n",
    "langDocBack.initSysMsgs()\n",
    "logging.basicConfig(level=logging.INFO, filename=\"logsBack.log\")\n",
    "logger = logging.getLogger()"
   ]
  },
  {
   "cell_type": "markdown",
   "metadata": {},
   "source": [
    "## func definitions"
   ]
  },
  {
   "cell_type": "code",
   "execution_count": 2,
   "metadata": {},
   "outputs": [],
   "source": [
    "## initializes a patient simulation with id, initial inputMessages (e.g. initial questions from doc) and patient specification \n",
    "## defaults to glaucoma patient if no patient specification is passed\n",
    "## initializes patientSimulations[id][\"patientConvo\"] with all initial messages and adds first patient response\n",
    "async def initPatientSimulation(id, inputMessages, patientSpecification = None):\n",
    "    logger.info(\"Initializing Patient Simulation with ID \"+ str(id)+ \" (testing.initPatientSimulation())\")\n",
    "    patientSimulation = defaultdict(dict)\n",
    "    patientSimulation[\"id\"] = \"Patient \"+str(id)\n",
    "    patientSimulation[\"patientConvo\"] = None\n",
    "    #patientSimulation[\"patientConvo\"] = None\n",
    "\n",
    "    if not patientSpecification:\n",
    "        patientSpecification = \"Ms. Rodriqguez, a 60 year old smoker with yet undiagnosed glaucoma.\"\n",
    "    \n",
    "    patientSimulation[\"patientSpecification\"] = patientSpecification\n",
    "\n",
    "    patientSys = \"\"\"\n",
    "    You are PatientGPT, designed to simulate patients as realistically as possible for med students and doctors to practice their anamnesis skills.\n",
    "    Today, you will play the following patient:\"\"\"+ patientSimulation[\"patientSpecification\"] +\"\"\".\n",
    "    As the medics are asking you questions, make up realistic symptoms, patient history and do a good job of providing a realistic patient anamnesis experience. This means that you sometimes tell irrelevant information and sometimes don't share information unless explicitly asked.\n",
    "    Keep in mind that you should only ever simulate the responses of the patient and let the students/doctors ask the questions. \n",
    "    The next thing the patient says is:\n",
    "    \"\"\"\n",
    "\n",
    "    patientConvo = Conversation(SystemMessage(patientSys))\n",
    "    \n",
    "    for msg in inputMessages:\n",
    "        patientConvo.addMessage(HumanMessage(content=msg.content))\n",
    "    \n",
    "    patientAnswer = chat(patientConvo)\n",
    "\n",
    "    logger.info(\"Patient:\"+patientAnswer.content+ \"(testing.initPatientSimulation())\")\n",
    "    #logger.info(\"testing.initPatientSimulation(): Patient:\"+patientAnswer.content)\n",
    "    patientConvo.addMessage(patientAnswer)\n",
    "    patientSimulation[\"patientConvo\"] = patientConvo\n",
    "    return patientSimulation"
   ]
  },
  {
   "cell_type": "code",
   "execution_count": 3,
   "metadata": {},
   "outputs": [],
   "source": [
    "## takes patient simulation and appends one patient response to it, returns patientsimulation with patientSimulation[\"patientConvo\"] with appended response\n",
    "def generatePatientAnswer(patientSimulation):\n",
    "    ## fetches patientConvo based on id\n",
    "    \n",
    "    patientConvo = patientSimulation[\"patientConvo\"]\n",
    "\n",
    "    # generates patient response based on patientConvo and updates patientConvo\n",
    "    #logger.info(\"testing.generatePatientAnswer() - patientConvo:\")\n",
    "    #logger.info(patientConvo)\n",
    "    patientResponse = chat(patientConvo)\n",
    "    logger.info(\"Patient:\"+patientResponse.content + \"(testing.generatePatientAnswer())\")\n",
    "    patientConvo.addMessage(patientResponse)\n",
    "\n",
    "    patientSimulation[\"patientConvo\"] = patientConvo\n",
    "    #logger.info(\"Patient:\"+patientSimulations[id][\"patientConvo\"][-1].content)\n",
    "    return patientSimulation"
   ]
  },
  {
   "cell_type": "code",
   "execution_count": 4,
   "metadata": {},
   "outputs": [],
   "source": [
    "\n",
    "## initializes a demo conversation between a patient simulation and langdoc\n",
    "async def initDemoConversation():\n",
    "\n",
    "    # initializes patient simulation id\n",
    "    testDict = defaultdict(dict)\n",
    "    user_context=testDict[\"demoConversation\"]\n",
    "    user_context[\"user_id\"]=\"demoConversation\"\n",
    "    \n",
    "    # initializes langdoc api and first doc messages and prints them\n",
    "    tester=langDocBack.initLangDocAPI(user_context)[\"docConvo\"]\n",
    "    #logger.info(tester)\n",
    "    response = Conversation(tester)\n",
    "    #response.print\n",
    "    response.flipRoles(False)\n",
    "    response.addMessage(\"To get started, could you please provide your age, sex, and nationality?\",\"user\")\n",
    "\n",
    "    #for msg in response:\n",
    "        #logger.info(\"Doctor: \"+msg.content)\n",
    "\n",
    "    \n",
    "    # initializes patient simulation with doc messages and simulation id\n",
    "    patientSimulation = await initPatientSimulation(user_context[\"user_id\"],response[\"docConvo\"],None)\n",
    "    patientConvo = patientSimulation[\"patientConvo\"]\n",
    "\n",
    "    # gets doctor's first answer to patient's intro messages\n",
    "    docAnswer = Conversation(langDocBack.initPatientConvo(patientConvo.lastMessage().content, user_context)[\"docConvo\"])\n",
    "\n",
    "    patientConvo.addMessage(UserMessage(docAnswer.lastMessage().content))\n",
    "    patientSimulation[\"patientConvo\"] = patientConvo\n",
    "    \n",
    "    #logger.info(\"testing.initDemoConversation() - patientConvo after last init:\")\n",
    "    #logger.info(patientSimulations[user_context[\"user_id\"]][\"patientConvo\"])\n",
    "\n",
    "    #logger.info(\"Doctor: \"+patientSimulations[user_context[\"user_id\"]][\"patientConvo\"][-1].content)\n",
    "\n",
    "    while True:\n",
    "        patientSimulation = generatePatientAnswer(patientSimulation)\n",
    "        patientConvo = patientSimulation[\"patientConvo\"]\n",
    "        docReply = langDocBack.processResponse(patientConvo[-1].content, user_context)\n",
    "        patientSimulation[\"patientConvo\"].addMessage(UserMessage(docReply[\"docConvo\"].lastMessage().content)) \n",
    "       # logger.info(\"Doctor: \"+docReply[-1].content)\n",
    "        #patientConvo.logger.info(\"\\n\\n TESTING COUNTMESSAGE FUNCTION\")\n",
    "        #logger.info(\"Count:\"+str(patientConvo.countMessagesOfType(HumanMessage)))"
   ]
  },
  {
   "cell_type": "code",
   "execution_count": 5,
   "metadata": {},
   "outputs": [],
   "source": [
    "async def runPatientSimulation(id, vignette):\n",
    "    try:\n",
    "        logger = logging.getLogger(str(current_process().pid)) \n",
    "        formatter = logging.Formatter('%(asctime)s - %(name)s - %(levelname)s - %(message)s')\n",
    "        handler = logging.StreamHandler()\n",
    "        #handler = logging.FileHandler('logfile_{current_process().pid}.log')\n",
    "        handler.setFormatter(formatter)\n",
    "        logger.addHandler(handler)\n",
    "        logger.setLevel(logging.INFO)\n",
    "\n",
    "        testDict = defaultdict(dict)\n",
    "        user_context=testDict[\"demoConversation\"]\n",
    "        user_context[\"user_id\"]= id\n",
    "        \n",
    "\n",
    "        # initializes langdoc api and first doc messages and prints them, flips roles of generated answers so that patient AI thinks that the doc AI's messages are coming from the user\n",
    "        tester=langDocBack.initLangDocAPI(user_context, logger)\n",
    "        #logger.info(tester)\n",
    "        response = Conversation(tester[\"docConvo\"])\n",
    "        #response.print\n",
    "        response.flipRoles(False)\n",
    "        response.addMessage(\"To get started, could you please provide your age, sex, and nationality?\",\"user\")\n",
    "\n",
    "        # inits patient simulation \n",
    "        logger.info(\"Initializing patient simulation of ID \"+str(id)+\" Vignette: \"+ vignette + \"testing.runPatientSimulation()\")\n",
    "        patientSimulation = await initPatientSimulation(user_context[\"user_id\"],response,vignette)\n",
    "        patientSimulation[\"user_id\"] = id\n",
    "        patientSimulation[\"user_context\"] = user_context\n",
    "\n",
    "        patientConvo = patientSimulation[\"patientConvo\"]\n",
    "\n",
    "        # gets doctor's first answer to patient's intro messages\n",
    "        docAnswer = Conversation(langDocBack.initPatientConvo(patientConvo.lastMessage().content, user_context)[\"docConvo\"])\n",
    "        patientConvo.addMessage(UserMessage(docAnswer.lastMessage().content))\n",
    "        patientSimulation[\"patientConvo\"] = patientConvo\n",
    "        user_context = patientSimulation[\"user_context\"]\n",
    "        while True:\n",
    "                patientSimulation = generatePatientAnswer(patientSimulation)\n",
    "                patientConvo = patientSimulation[\"patientConvo\"]\n",
    "                docreply = langDocBack.processResponse(patientConvo[-1].content, user_context)\n",
    "                patientSimulation[\"patientConvo\"].addMessage(UserMessage(docreply[\"docConvo\"].lastMessage().content)) \n",
    "                # logger.info(\"Doctor: \"+docReply[-1].content)\n",
    "                # patientConvo.logger.info(\"\\n\\n TESTING COUNTMESSAGE FUNCTION\")\n",
    "                # logger.info(\"Count:\"+str(patientConvo.countMessagesOfType(HumanMessage)))\n",
    "    except Exception as e:\n",
    "        logger.error(f\"An error occurred: {e}\")"
   ]
  },
  {
   "cell_type": "code",
   "execution_count": 6,
   "metadata": {},
   "outputs": [],
   "source": [
    "#takes conversation and tests summary bot with it\n",
    "def testSummaryBot(conversation):\n",
    "    logger.info(langDocBack.summarizeData(conversation))"
   ]
  },
  {
   "cell_type": "code",
   "execution_count": 7,
   "metadata": {},
   "outputs": [],
   "source": [
    "# returns example COnversation of key i\n",
    "def exampleConversation(i):\n",
    "    if i == 1:\n",
    "        convo = Conversation()\n",
    "        convo.addMessage(\"Hi, I am Dr. Who, how can I help you today.\", \"ai\")\n",
    "        convo.addMessage(\"Hi, I am Anna, 22 years old, and I have a headache.\", \"human\")\n",
    "        convo.addMessage(\"I see. Could you tell me more?\", \"AI\")\n",
    "        convo.addMessage(\"Well it started two days ago and it has been getting worse ever since. Now it is really bad and it's been affecting my sleep and concentration.\", \"human\")\n",
    "        convo.addMessage(\"Could you summarize the pain in more detail?\", \"ai\")\n",
    "        convo.addMessage(\"Yes certainly, it's a kind of diffuse, dull pain everywhere in my head and it's really bad. It gets worse when I lower my head.\", \"human\")\n",
    "        return convo"
   ]
  },
  {
   "cell_type": "markdown",
   "metadata": {},
   "source": [
    "## Tests\n",
    "### vignettes test"
   ]
  },
  {
   "cell_type": "code",
   "execution_count": 8,
   "metadata": {},
   "outputs": [
    {
     "name": "stderr",
     "output_type": "stream",
     "text": [
      "INFO:root:Initializing 2 vignettes. (testing.initVignettesDemo())\n"
     ]
    },
    {
     "name": "stdout",
     "output_type": "stream",
     "text": [
      "INIT\n"
     ]
    }
   ],
   "source": [
    "## initializes a demo conversation between a patient simulation and langdoc\n",
    "def initVignettesDemo(vignettes):\n",
    "    logger = logging.getLogger()\n",
    "    logger.info(\"Initializing \"+ str(len(vignettes))+ \" vignettes. (testing.initVignettesDemo())\")\n",
    "\n",
    "    with Pool() as p:\n",
    "        id_vignette_pairs = [(i+1, v) for i, v in enumerate(vignettes)]\n",
    "        result = p.starmap_async(runPatientSimulation, id_vignette_pairs)\n",
    "        result.get()\n",
    "    # initializes patient simulations\n",
    "    \n",
    "    \"\"\"\n",
    "    logger.info(\"Initializing \"+ str(vignettes.__len__())+ \" vignettes. (testing.initVignettesDemo())\")\n",
    "    id = 1\n",
    "    for v in vignettes:\n",
    "        # runs patient simulation with vignette v and incrementally higher id \n",
    "        logger.info(\"Initializing patient simulation no.\"+str(id))\n",
    "        coro = runPatientSimulation(id,  v)\n",
    "        asyncio.create_task(coro)\n",
    "        logger.info(\"TEST\")\n",
    "        id = id + 1 \n",
    "    #loop.run_forever()\n",
    "    \"\"\"\n",
    "       \n",
    "def loadVignettes():\n",
    "    f = open(\"vignettes.txt\", \"r\")\n",
    "    contents = f.read()\n",
    "    vignettes = contents.split(\"===\")\n",
    "    return vignettes\n",
    "\n",
    "vignettes = loadVignettes()\n",
    "print(\"INIT\")\n",
    "initVignettesDemo(vignettes)\n",
    "logger.info(\"INIT 2\")\n"
   ]
  },
  {
   "cell_type": "markdown",
   "metadata": {},
   "source": [
    "### Sending custom messages directly, WIP"
   ]
  },
  {
   "cell_type": "code",
   "execution_count": null,
   "metadata": {},
   "outputs": [
    {
     "ename": "RuntimeError",
     "evalue": "asyncio.run() cannot be called from a running event loop",
     "output_type": "error",
     "traceback": [
      "\u001b[1;31m---------------------------------------------------------------------------\u001b[0m",
      "\u001b[1;31mRuntimeError\u001b[0m                              Traceback (most recent call last)",
      "Cell \u001b[1;32mIn[16], line 5\u001b[0m\n\u001b[0;32m      2\u001b[0m \u001b[39masync\u001b[39;00m \u001b[39mdef\u001b[39;00m \u001b[39mtesting\u001b[39m():\n\u001b[0;32m      3\u001b[0m     \u001b[39mawait\u001b[39;00m discordBack\u001b[39m.\u001b[39msendCustomMessage(\u001b[39m\"\u001b[39m\u001b[39mgeneral\u001b[39m\u001b[39m\"\u001b[39m,\u001b[39m\"\u001b[39m\u001b[39mHi\u001b[39m\u001b[39m\"\u001b[39m)\n\u001b[1;32m----> 5\u001b[0m asyncio\u001b[39m.\u001b[39;49mrun(testing())\n",
      "File \u001b[1;32mc:\\Users\\User\\AppData\\Local\\Programs\\Python\\Python310\\lib\\asyncio\\runners.py:33\u001b[0m, in \u001b[0;36mrun\u001b[1;34m(main, debug)\u001b[0m\n\u001b[0;32m      9\u001b[0m \u001b[39m\u001b[39m\u001b[39m\"\"\"Execute the coroutine and return the result.\u001b[39;00m\n\u001b[0;32m     10\u001b[0m \n\u001b[0;32m     11\u001b[0m \u001b[39mThis function runs the passed coroutine, taking care of\u001b[39;00m\n\u001b[1;32m   (...)\u001b[0m\n\u001b[0;32m     30\u001b[0m \u001b[39m    asyncio.run(main())\u001b[39;00m\n\u001b[0;32m     31\u001b[0m \u001b[39m\"\"\"\u001b[39;00m\n\u001b[0;32m     32\u001b[0m \u001b[39mif\u001b[39;00m events\u001b[39m.\u001b[39m_get_running_loop() \u001b[39mis\u001b[39;00m \u001b[39mnot\u001b[39;00m \u001b[39mNone\u001b[39;00m:\n\u001b[1;32m---> 33\u001b[0m     \u001b[39mraise\u001b[39;00m \u001b[39mRuntimeError\u001b[39;00m(\n\u001b[0;32m     34\u001b[0m         \u001b[39m\"\u001b[39m\u001b[39masyncio.run() cannot be called from a running event loop\u001b[39m\u001b[39m\"\u001b[39m)\n\u001b[0;32m     36\u001b[0m \u001b[39mif\u001b[39;00m \u001b[39mnot\u001b[39;00m coroutines\u001b[39m.\u001b[39miscoroutine(main):\n\u001b[0;32m     37\u001b[0m     \u001b[39mraise\u001b[39;00m \u001b[39mValueError\u001b[39;00m(\u001b[39m\"\u001b[39m\u001b[39ma coroutine was expected, got \u001b[39m\u001b[39m{!r}\u001b[39;00m\u001b[39m\"\u001b[39m\u001b[39m.\u001b[39mformat(main))\n",
      "\u001b[1;31mRuntimeError\u001b[0m: asyncio.run() cannot be called from a running event loop"
     ]
    }
   ],
   "source": [
    "#discordFront.testing()\n",
    "async def testing():\n",
    "    await discordBack.sendCustomMessage(\"general\",\"Hi\")\n",
    "\n",
    "asyncio.run(testing())"
   ]
  },
  {
   "cell_type": "markdown",
   "metadata": {},
   "source": [
    "### Testing summary bot"
   ]
  },
  {
   "cell_type": "code",
   "execution_count": null,
   "metadata": {},
   "outputs": [
    {
     "name": "stdout",
     "output_type": "stream",
     "text": [
      "- Demographics:\n",
      "    - Name: Anna\n",
      "    - Age: 22 years old\n",
      "    \n",
      "- Symptoms:\n",
      "    - Headache:\n",
      "        - Duration: 2 days\n",
      "        - Character: Diffuse, dull pain\n",
      "        - Severity: Really bad\n",
      "        - Aggravating factors: Lowering head\n",
      "        - Associated symptoms: Sleep disturbance, difficulty concentrating\n",
      "- Demographics:\n",
      "    - Name: Anna\n",
      "    - Age: 22 years old\n",
      "    \n",
      "- Symptoms:\n",
      "    - Headache:\n",
      "        - Duration: 2 days\n",
      "        - Character: Diffuse, dull pain\n",
      "        - Severity: Really bad\n",
      "        - Aggravating factors: Lowering head\n",
      "        - Associated symptoms: Sleep disturbance, difficulty concentrating\n",
      "None\n"
     ]
    }
   ],
   "source": [
    "logger.info(testSummaryBot(exampleConversation(1)))"
   ]
  },
  {
   "cell_type": "markdown",
   "metadata": {},
   "source": [
    "### demo convo\n",
    "currently not working, minor adjustment of data types required"
   ]
  },
  {
   "cell_type": "code",
   "execution_count": null,
   "metadata": {},
   "outputs": [
    {
     "name": "stdout",
     "output_type": "stream",
     "text": [
      "Initializing LangDocAPI (langDocBack.initLangDocAPI())\n",
      "Initializing LangDoc Agent (langDocBack.initDocAgent())\n",
      "Doctor:Good morning! My name is Anna Johns, and I'll be assisting you today. How can I help you?(langDocBack.initDocAgent())\n"
     ]
    },
    {
     "ename": "TypeError",
     "evalue": "list indices must be integers or slices, not str",
     "output_type": "error",
     "traceback": [
      "\u001b[1;31m---------------------------------------------------------------------------\u001b[0m",
      "\u001b[1;31mTypeError\u001b[0m                                 Traceback (most recent call last)",
      "Cell \u001b[1;32mIn[14], line 1\u001b[0m\n\u001b[1;32m----> 1\u001b[0m \u001b[39mawait\u001b[39;00m initDemoConversation()\n",
      "Cell \u001b[1;32mIn[4], line 22\u001b[0m, in \u001b[0;36minitDemoConversation\u001b[1;34m()\u001b[0m\n\u001b[0;32m     15\u001b[0m response\u001b[39m.\u001b[39maddMessage(\u001b[39m\"\u001b[39m\u001b[39mTo get started, could you please provide your age, sex, and nationality?\u001b[39m\u001b[39m\"\u001b[39m,\u001b[39m\"\u001b[39m\u001b[39muser\u001b[39m\u001b[39m\"\u001b[39m)\n\u001b[0;32m     17\u001b[0m \u001b[39m#for msg in response:\u001b[39;00m\n\u001b[0;32m     18\u001b[0m     \u001b[39m#print(\"Doctor: \"+msg.content)\u001b[39;00m\n\u001b[0;32m     19\u001b[0m \n\u001b[0;32m     20\u001b[0m \n\u001b[0;32m     21\u001b[0m \u001b[39m# initializes patient simulation with doc messages and simulation id\u001b[39;00m\n\u001b[1;32m---> 22\u001b[0m patientSimulation \u001b[39m=\u001b[39m \u001b[39mawait\u001b[39;00m initPatientSimulation(user_context[\u001b[39m\"\u001b[39m\u001b[39muser_id\u001b[39m\u001b[39m\"\u001b[39m],response[\u001b[39m\"\u001b[39;49m\u001b[39mdocConvo\u001b[39;49m\u001b[39m\"\u001b[39;49m],\u001b[39mNone\u001b[39;00m)\n\u001b[0;32m     23\u001b[0m patientConvo \u001b[39m=\u001b[39m patientSimulation[\u001b[39m\"\u001b[39m\u001b[39mpatientConvo\u001b[39m\u001b[39m\"\u001b[39m]\n\u001b[0;32m     25\u001b[0m \u001b[39m# gets doctor's first answer to patient's intro messages\u001b[39;00m\n",
      "File \u001b[1;32mc:\\Users\\User\\BayesDoc Discord\\Conversation.py:29\u001b[0m, in \u001b[0;36mConversation.__getitem__\u001b[1;34m(self, key)\u001b[0m\n\u001b[1;32m---> 29\u001b[0m \u001b[39mdef\u001b[39;00m \u001b[39m__getitem__\u001b[39m(\u001b[39mself\u001b[39m, key): \u001b[39mreturn\u001b[39;00m \u001b[39mself\u001b[39;49m\u001b[39m.\u001b[39;49mconversation[key]\n",
      "\u001b[1;31mTypeError\u001b[0m: list indices must be integers or slices, not str"
     ]
    }
   ],
   "source": [
    "await initDemoConversation()"
   ]
  }
 ],
 "metadata": {
  "kernelspec": {
   "display_name": "Python 3",
   "language": "python",
   "name": "python3"
  },
  "language_info": {
   "codemirror_mode": {
    "name": "ipython",
    "version": 3
   },
   "file_extension": ".py",
   "mimetype": "text/x-python",
   "name": "python",
   "nbconvert_exporter": "python",
   "pygments_lexer": "ipython3",
   "version": "3.10.2"
  },
  "orig_nbformat": 4
 },
 "nbformat": 4,
 "nbformat_minor": 2
}
